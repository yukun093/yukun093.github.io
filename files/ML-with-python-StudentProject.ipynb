{
 "cells": [
  {
   "cell_type": "markdown",
   "metadata": {
    "deletable": false,
    "editable": false,
    "nbgrader": {
     "cell_type": "markdown",
     "checksum": "cb065a072bd51de9e21fe74783f853ce",
     "grade": false,
     "grade_id": "cell-9b77f8018c6a89bb",
     "locked": true,
     "schema_version": 3,
     "solution": false,
     "task": false
    }
   },
   "source": [
    "# CS-EJ3211 Machine Learning with Python \n",
    "\n",
    "## Student Project: Tissue type classification based on microarray gene expression profiles\n",
    "**submission deadline 22.03.2021 23:59 Helsinki time**"
   ]
  },
  {
   "cell_type": "markdown",
   "metadata": {
    "deletable": false,
    "editable": false,
    "nbgrader": {
     "cell_type": "markdown",
     "checksum": "7a683c9528cc2bf14bf00c8025348dc6",
     "grade": false,
     "grade_id": "cell-21ce2d49b03140c8",
     "locked": true,
     "schema_version": 3,
     "solution": false,
     "task": false
    }
   },
   "source": [
    "### Student project instructions\n",
    "\n",
    "In order to participate in the project, you must submit a project report by 22.03.2021. The report is submitted as a Python notebook (.ipynb format), and should follow the required outline presented in this notebook.\n",
    "\n",
    "The submitted report should contain all Python code used in the project (early prototyping and \"scrapbooking\" can be excluded). The notebook should be arranged so that the reader can replicate your workflow by running the cells in the notebook in order.\n",
    "\n",
    "**General recommendations**\\\n",
    "Strive to use the notation used on this course if you use mathematical formulas or symbols. In the case that you want to use different notation, use good scientific writing principles and clearly define the meaning of your symbols.\n",
    "\n",
    "**Please comment your code.**\\\n",
    "The commenting doesn't have to be as comprehensive as it is in the exercise rounds (where it is for educational reasons), but it should give some indication of the what is happening in different sections of your code."
   ]
  },
  {
   "cell_type": "markdown",
   "metadata": {
    "deletable": false,
    "editable": false,
    "nbgrader": {
     "cell_type": "markdown",
     "checksum": "eee2f66b7affd92f7926b0fefb8b258d",
     "grade": false,
     "grade_id": "cell-1f8e5bcb643b2115",
     "locked": true,
     "schema_version": 3,
     "solution": false,
     "task": false
    }
   },
   "source": [
    "## Introduction\n",
    "\n",
    "\"A microarray is a laboratory tool used to detect the expression of thousands of genes at the same time. DNA microarrays are microscope slides that are printed with thousands of tiny spots in defined positions, with each spot containing a known DNA sequence or gene.\"\\\n",
    "text source: https://www.nature.com/scitable/definition/microarray-202/\n",
    "\n",
    "<img src=\"DNA_microarray.jpg\" width=800/>\n",
    "\n",
    "image source: https://www.genome.gov/about-genomics/fact-sheets/DNA-Microarray-Technology"
   ]
  },
  {
   "cell_type": "markdown",
   "metadata": {
    "deletable": false,
    "editable": false,
    "nbgrader": {
     "cell_type": "markdown",
     "checksum": "c9ee7b99a063943aacdfbf1aa0805419",
     "grade": false,
     "grade_id": "cell-5a9cb8492f55956e",
     "locked": true,
     "schema_version": 3,
     "solution": false,
     "task": false
    }
   },
   "source": [
    "The microarray data for this problem consists of normalized relative expression of certain genes measured in different tissue. There are 3000 gene probes and 2000 samples. The full dataset can be found at https://www.ebi.ac.uk/arrayexpress/ (accession number E-MTAB-62). \n",
    "\n",
    "The first columns of  'data_subset.csv' file (file located in 'coursedata' folder) contains ID's of samples (e.g. 'GSM23227.CEL') and analyses info ('RMA') and the rest - expression values for 3000 genes. \n",
    "\n",
    "Your task is to predict the type of tissue ('disease' vs 'normal') based on expression profile of samples. \n",
    "\n",
    "In addition to this task, you can solve ML problem of predicting multiple types of tissue  {'cell line', 'disease', 'neoplasm', 'normal'}. This is an optional task, which allows to earn extra points. "
   ]
  },
  {
   "cell_type": "markdown",
   "metadata": {
    "deletable": false,
    "editable": false,
    "nbgrader": {
     "cell_type": "markdown",
     "checksum": "cb1060d8af2490e6b8b9bf8b8d2f395c",
     "grade": false,
     "grade_id": "cell-0fbc558ff2c5c71b",
     "locked": true,
     "schema_version": 3,
     "solution": false,
     "task": false
    }
   },
   "source": [
    "<a id='problem'></a>\n",
    "<div class=\" alert alert-info\">\n",
    "\n",
    "## Problem formulation (5 p)\n",
    "\n",
    "In contrast to the conceptual presentation of the problem in the introduction, this section formulates the problem as a machine learning problem. You should:\n",
    "\n",
    "- Define the type of your problem. Is it a regression or classification problem? Or perhaps something else?\n",
    "\n",
    "- Define the **data points** in your problem and define the **features** and **labels** of the points.\n",
    "\n",
    "- Define the **metric** that serves as the measure of quality of an ML model on your problem. For example, the mean-squared-error might be a reasonable choice for a regression problem, whereas some kind of balanced accuracy score might suit a classification problem with imbalanced classes. Note that this is not necessarily equivalent to the loss function used by your model!\n",
    "    \n",
    "</div>"
   ]
  },
  {
   "cell_type": "markdown",
   "metadata": {},
   "source": [
    "### YOUR TEXT HERE ###\n",
    "answer questions above\n",
    "\n",
    "- For the first question:\n",
    "At first, this is a classification problem, since we need to use dataset to classify their features. For regression,it will reflect continuous numerical values but not several clusters.\n",
    "\n",
    "- For the next question:\n",
    "Data points mean the overall data(2000 lines) in the data_subset.csv;\n",
    "features are expression values for 2999 genes;\n",
    "labels are the last column that is column label\n",
    "\n",
    "- For the next question:\n",
    "Training accuracy and validation accuracy can be used as metric when doing a classification task\n"
   ]
  },
  {
   "cell_type": "code",
   "execution_count": 127,
   "metadata": {},
   "outputs": [
    {
     "name": "stdout",
     "output_type": "stream",
     "text": [
      "         Source Name    0          1         2         3          4         5  \\\n",
      "0       GSM23227.CEL  RMA   8.113306  8.436494  6.373835   7.985305  4.334113   \n",
      "1     1229968152.CEL  RMA  10.633046  7.286210  6.955318   9.168461  4.314263   \n",
      "2      GSM133626.CEL  RMA   8.527562  8.262509  6.725264  10.009785  4.439494   \n",
      "3       GSM47465.CEL  RMA   8.899864  7.210738  6.677196   9.336546  4.437717   \n",
      "4      GSM124909.CEL  RMA   8.703130  7.426840  6.441970   8.597625  4.348691   \n",
      "...              ...  ...        ...       ...       ...        ...       ...   \n",
      "1995    GSM21215.CEL  RMA   9.375530  5.813558  6.654986   9.104328  5.100172   \n",
      "1996    GSM29703.CEL  RMA   9.174483  6.770083  6.570502   8.571956  4.370335   \n",
      "1997    GSM29752.CEL  RMA   8.876003  6.987061  6.890687   8.464895  4.223508   \n",
      "1998    GSM29750.CEL  RMA   9.361270  7.050273  6.825901   8.558946  4.187855   \n",
      "1999  1347769995.CEL  RMA  10.801932  6.242204  6.611269   9.325318  4.796832   \n",
      "\n",
      "             6         7         8  ...      2992      2993      2994  \\\n",
      "0     6.782869  5.877186  5.293819  ...  6.180822  8.888578  8.130536   \n",
      "1     7.913541  5.829411  5.412891  ...  6.168112  7.984214  7.384627   \n",
      "2     7.315329  6.133931  5.221155  ...  6.576885  8.857609  7.133875   \n",
      "3     6.967421  5.936354  5.736722  ...  7.007417  8.150330  7.314713   \n",
      "4     6.931876  5.957056  5.304776  ...  7.020991  7.771465  7.321219   \n",
      "...        ...       ...       ...  ...       ...       ...       ...   \n",
      "1995  7.352827  6.010764  5.039133  ...  5.713392  8.492810  7.227065   \n",
      "1996  7.253306  5.787884  5.298322  ...  6.280876  7.726909  7.766690   \n",
      "1997  8.484922  5.889175  5.226723  ...  5.823719  8.167693  7.777821   \n",
      "1998  7.381319  5.709240  5.423488  ...  6.909454  7.775794  8.703834   \n",
      "1999  7.359541  6.008354  5.543770  ...  5.704149  8.513525  7.901915   \n",
      "\n",
      "          2995      2996      2997      2998      2999      3000      label  \n",
      "0     6.376460  7.936580  7.153437  6.624472  5.371393  6.169671  cell line  \n",
      "1     6.353065  7.521229  8.098390  7.015168  6.000483  6.829097  cell line  \n",
      "2     6.419561  7.775441  7.892436  6.843814  6.231910  7.432128  cell line  \n",
      "3     6.340884  7.610572  8.068214  7.097992  5.776570  7.005940  cell line  \n",
      "4     6.045605  7.539464  7.977012  6.076515  5.694630  6.521549  cell line  \n",
      "...        ...       ...       ...       ...       ...       ...        ...  \n",
      "1995  7.284461  7.597544  7.856710  7.483863  5.540861  7.907277     normal  \n",
      "1996  6.531365  7.545859  7.363260  6.769831  5.538058  7.245244     normal  \n",
      "1997  7.477391  7.706851  8.490099  8.495358  5.775298  7.700667     normal  \n",
      "1998  6.520055  7.276214  7.924072  7.663724  5.693761  7.199942     normal  \n",
      "1999  6.271624  7.156303  7.994740  7.468739  6.320872  7.956430     normal  \n",
      "\n",
      "[2000 rows x 3003 columns]\n"
     ]
    }
   ],
   "source": [
    "import pandas as pd\n",
    "\n",
    "original_dataset = pd.read_csv(\"/coursedata/R7_StudentProject/data_subset.csv\")\n",
    "print(original_dataset.loc[0:,:])"
   ]
  },
  {
   "cell_type": "code",
   "execution_count": 128,
   "metadata": {},
   "outputs": [],
   "source": [
    "dataset = pd.read_csv(\"/coursedata/R7_StudentProject/data_subset.csv\",header=None).to_numpy()\n",
    "\n",
    "data_points = dataset[0:2001,] # shape 2000x3003 . the function of this line is to remove line title\n",
    "features = data_points[:,2:3002] # 2000x3000 remove source and name\n",
    "labels = data_points[:,3002] # 2000x1"
   ]
  },
  {
   "cell_type": "markdown",
   "metadata": {
    "deletable": false,
    "editable": false,
    "nbgrader": {
     "cell_type": "markdown",
     "checksum": "e68b4861f3b9d9edd16d352dcbc0eee7",
     "grade": false,
     "grade_id": "cell-78b62d0db4a61de4",
     "locked": true,
     "schema_version": 3,
     "solution": false,
     "task": false
    }
   },
   "source": [
    "<a id='methods'></a>\n",
    "<div class=\" alert alert-info\">\n",
    "\n",
    "# Methods\n",
    "\n",
    "## **General instructions:**\n",
    "    \n",
    "This section presents the methods used to solve the machine learning problem and walks through the process of solving the problem. This section could include:\n",
    "\n",
    "- A description of the dataset. What is the source of the dataset? How many data points does it contain? The features and labels where already presented in the previous section but can be presented once again.\n",
    "    \n",
    "- Describe why and how the data split on subsets.\n",
    "\n",
    "- A description of the pre-processing methods that you have used on your data. \n",
    "\n",
    "- A description of the model(s) you are using to solve your machine learning problem. Of what form are the predictor functions (include formula if applicable)? What is the loss function to be minimized or maximized (include formula if applicable). You should also include a short description of the hyperparameters that you tune to optimize the model. \n",
    "    \n",
    "- If you use some tools/methods for model selection and validation (e.g. cross-validation, grid search), explain the purpose of it and how it was performed.\n",
    "    \n",
    "- A description of hyperparameter tuning and model selection process. E.g. which validation methods have you used to estimate the model performance on previously unseen data?\n"
   ]
  },
  {
   "cell_type": "markdown",
   "metadata": {},
   "source": [
    "### YOUR TEXT HERE ###\n",
    "answer questions above:\n",
    "- According to the general instructions, I answered questions successively with a sequence:\n",
    "For dataset, the source is from https://www.ebi.ac.uk/arrayexpress/ (accession number E-MTAB-62). It contains 2000 data. The features and labels can be described as follows.\n",
    "\n",
    "- It is because there is need to divide data into two parts which are training data and validation data. Validation data is used to test the trained model. Basically, we can use package of train_test_split such as, \n",
    "x_train, x_test, y_train, y_test = train_test_split(...)\n",
    "\n",
    "- when we have got data, there are several steps we should know:\n",
    "PCA dimensionality reduction can be used as one of the pre-processing methods to process data.\n",
    "\n",
    "- when it comes to select model to solve this problem, I think KNN(K-nearest neighbors, SVM(support vector machine), or decision tree could be used to train data, but I prefer to use SVM model. when it comes to the predictor function, there are several methods that can be used. Sigmoid function, Relu or tanh predictor function can be regarded as one of the popular linear classifiers. Sigmoid function seems a practical predictor function, and when h(x) is more than 0.5, the assigned class is 1. Instead, when h(x) is less than 0.5, the assigned class is 0.\n",
    "\\begin{equation}\n",
    "h(\\mathbf{x})=w_0 + \\mathbf{w}^{T} \\mathbf{x}\n",
    "\\end{equation}\n",
    "The loss function is shown as follows, such as MSE\n",
    "\\begin{equation}\n",
    "    \\mathcal{E(h(\\mathbf{x}))} = \\frac{1}{m} \\sum_{i=1}^m ({y}^{(i)} - \\hat{y}^{(i)})^2 = \\frac{1}{m} \\sum_{i=1}^m ({y}^{(i)} - h(\\mathbf{x}^{(i)}))^2.\n",
    "\\end{equation}\n",
    "As for tuning hyperparameters, the aim is to get a smaller prediction error in the testing dataset, namely best learning characteristics and effects. The hyperparameter should be set before training, and it is not the result after the training. There are various hyperparameters in the different models, for example learning rate which is possibly the most important one, k in K-Nearest Neighbors, c in support vector machines, the number of hidden layers in Neural Networks. Basically, learning rate could be seen as a item of trade-off between the prediction error incurred on the training error and the complexity of a predictor. A large one focus on the complexity of predictor function, and instead, a smaller one is pay attention to returning a smaller average loss.\n",
    "\n",
    "- The purpose of model selection and validation is to avoid overfitting, and select the best hyperparameter. Another function is to estimate the performance of the model and select a better one where there are several models provided to choose. K-fold method could be used to divide the dataset into training data and testing data. Searching method such as Grid search or Randomized search builds a model for every combination of hyperparameters specified and evaluates each model. Using GridSearchCV() to tune hyperparameters before .fit() and after model selection such as Lasso().\n",
    "\n",
    "- When creating a machine learning model, it should go to present with design choices as to how to define model architecture. Often times, we don't immediately know what the optimal model architecture should be for a given model, and thus we'd like to be able to explore a range of possibilities. In true machine learning fashion, we'll ideally ask the machine to perform this exploration and select the optimal model architecture automatically. Parameters which define the model architecture are referred to as hyperparameters and thus this process of searching for the ideal model architecture is referred to as hyperparameter tuning. Once the parameters of model has been decided, the structure of model also is decided. Visual inspection is one of methods to do the validation process after the training model is used to train new data."
   ]
  },
  {
   "cell_type": "code",
   "execution_count": 130,
   "metadata": {},
   "outputs": [],
   "source": [
    "features = data_points[:,2:3002] # 2000x3000\n",
    "labels = data_points[:,3002] # 2000x1, pick the first index 0, but not pick the last index 3003 though the size of label is 2000x3003"
   ]
  },
  {
   "cell_type": "markdown",
   "metadata": {
    "deletable": false,
    "editable": false,
    "nbgrader": {
     "cell_type": "markdown",
     "checksum": "91e4642e33b50274930e1ed817b787b0",
     "grade": false,
     "grade_id": "cell-3f27e3b1d26560af",
     "locked": true,
     "schema_version": 3,
     "solution": false,
     "task": false
    }
   },
   "source": [
    "# **Specific instructions:**"
   ]
  },
  {
   "cell_type": "markdown",
   "metadata": {
    "deletable": false,
    "editable": false,
    "nbgrader": {
     "cell_type": "markdown",
     "checksum": "17e3d1d889a4c9127df82b282a838be0",
     "grade": false,
     "grade_id": "cell-bb2bc315cf50b8f4",
     "locked": true,
     "schema_version": 3,
     "solution": false,
     "task": false
    }
   },
   "source": [
    "# PART 1 (mandatory, 15 p) \n",
    "\n",
    "    \n",
    "Your task is to build logistic regression and Support Vector Machine (SVM) models for solving tissue type prediction task. During this course, you have familiarized yourself with multiple ML methods from scikit-learn library, but now you will need to independently learn the specifics of how to use the SVM classifier in scikit-learn by studying the documentation and related resources. \n",
    "    \n",
    "More precisely, you need to:\n",
    "\n",
    "1. Upload the \"data_subset.csv\" file as a Pandas dataframe. The file contains gene expression data for tissues of different types. The first column contains the sample id and the second column indicates how the data was analysed (Robust Multi-array Average or RMA). The remaining columns, excluding the final one, contain the relative gene expression values. Finally, the last column contains the category (label) to which the data points belong to ('cell line', 'disease', 'neoplasm', 'normal'). \n",
    "\n",
    "\n",
    "2. In this part, you will only use data points belonging to two of the four categories in the dataset - 'disease' and 'normal'. Consequently, you should create a new data frame that only contains the data points with these labels. The new dataset should consist of 700 data points.\n",
    "\n",
    "\n",
    "3. Create numpy arrays `X` (feature matrix) and `y` (label vector) based on the data frame. The feature matrix should contain the expression data and be of shape `(700, 3000)`.\n",
    "   The label vector `y` should be of shape=(700,) and contain integer values 1 (for data points labled as \"disease\") and 0 (for data points labled as 'normal').\n",
    "   \n",
    "4. Split the data with `train_test_split` into training and test sets (with 80:20 ratio, random_state=42). Keep test set aside until final evaluation. Use training data to choose the model. \n",
    "\n",
    "5. Implement PCA (using 20 components) with logistic regression:\n",
    "\n",
    "   - Use Pipeline sklearn class to chain pre-processing steps (StandardScaler() and PCA(n_components=20, random_state=42)) and logistic regression. \n",
    "   - Use `cross_val_score class` from sklearn.model_selection to perform 5-fold cross-validation and get average F1-score (use parameters scoring='f1' and cv=5 in `cross_val_score object`).\n",
    " \n",
    "\n",
    "6. Implement PCA (using 20 components) with SVM:\n",
    "\n",
    "  - Construct Pipeline object with scaler and PCA for SVM model in a similar way as for logistic regression.\n",
    "  - Use training set for choosing parameters and hyperparameters. Specifically, perform grid search combined with cross-validation on the Pipeline object by using the `GridSearchCV` class in scikit-learn. \n",
    "  \n",
    "  The candidate parameter values for the SVM model in your grid search should be `'C': [0.01, 1, 100]` and `'gamma': [1e-04, 1e-03, 1e-02]}`, the number of folds used for cross-validation should be `cv=5`, and scoring parameter `f1`.\n",
    "  - Report F1-score of SVM model with best parameter values for `C` and `gamma`.\n",
    "  \n",
    "\n",
    "7. Choose model with best F1-score and perform final evaluation:\n",
    "\n",
    "    - Fit model (pipeline object) on the training dataset.\n",
    "    - Report the accuracy and F1-score on the training and test sets.\n",
    "    - Plot a normalized confusion matrix for the test set. \n",
    "\n",
    "Useful links:\n",
    "\n",
    "- Learn about Support Vector Machine (SVM) methods (e.g. https://scikit-learn.org/stable/modules/svm.html#support-vector-machines) and the implementation of SVM (specifically the SVC) in the scikit-learn library.\n",
    "- Pipeline example https://scikit-learn.org/stable/auto_examples/compose/plot_digits_pipe.html\n",
    "- Metrics for evaluation https://scikit-learn.org/stable/modules/model_evaluation.html\n",
    "- Function for plotting confusion matrix https://scikit-learn.org/stable/modules/generated/sklearn.metrics.plot_confusion_matrix.html"
   ]
  },
  {
   "cell_type": "code",
   "execution_count": 131,
   "metadata": {},
   "outputs": [
    {
     "name": "stdout",
     "output_type": "stream",
     "text": [
      "finished getting data with two labels\n"
     ]
    }
   ],
   "source": [
    "### QUESTION 1 ###\n",
    "### YOUR CODE HERE ###\n",
    "### PART 1 AND 2 ###\n",
    "import numpy as np\n",
    "import pandas as pd\n",
    "\n",
    "# original_dataset = pd.read_csv(\"/coursedata/R7_StudentProject/data_subset.csv\") # DataFrame\n",
    "original_dataset = pd.read_csv(\"/coursedata/R7_StudentProject/data_subset.csv\")\n",
    "df2 = original_dataset\n",
    "\n",
    "# picking up dataframe data should use dataframe.loc[][]\n",
    "for i in range(df2.shape[0]):\n",
    "    if(df2.loc[i][3002] == \"cell line\" or df2.loc[i][3002] == \"neoplasm\"):\n",
    "        df2.drop(i,axis = 0,inplace = True)\n",
    "\n",
    "print(\"finished getting data with two labels\")"
   ]
  },
  {
   "cell_type": "code",
   "execution_count": 132,
   "metadata": {},
   "outputs": [],
   "source": [
    "### QUESTION 3 ###\n",
    "df2_store = df2\n",
    "df2['label'] = df2['label'].map({'disease': 1, 'normal': 0})\n",
    "df2.drop(\"Source Name\",axis = 1,inplace = True)\n",
    "df2.drop(\"0\",axis = 1,inplace = True)\n",
    "\n",
    "# df3 = df3.values # pd.DataFrame, np->pd; df.values, pd->np\n",
    "# X = df3[:,0:3000] # 700x3000\n",
    "# y_temp = df3[:,3000] # 700x1\n",
    "# y = np.zeros(shape=(700,1),dtype=int)\n",
    "# for i in range(df3.shape[0]):\n",
    "#     if(y_temp[i] == \"disease\"):\n",
    "#         y[i] = 1\n",
    "#     elif(y_temp[i] == \"normal\"):\n",
    "#         y[i] = 0"
   ]
  },
  {
   "cell_type": "code",
   "execution_count": 133,
   "metadata": {},
   "outputs": [
    {
     "data": {
      "text/html": [
       "<div>\n",
       "<style scoped>\n",
       "    .dataframe tbody tr th:only-of-type {\n",
       "        vertical-align: middle;\n",
       "    }\n",
       "\n",
       "    .dataframe tbody tr th {\n",
       "        vertical-align: top;\n",
       "    }\n",
       "\n",
       "    .dataframe thead th {\n",
       "        text-align: right;\n",
       "    }\n",
       "</style>\n",
       "<table border=\"1\" class=\"dataframe\">\n",
       "  <thead>\n",
       "    <tr style=\"text-align: right;\">\n",
       "      <th></th>\n",
       "      <th>1</th>\n",
       "      <th>2</th>\n",
       "      <th>3</th>\n",
       "      <th>4</th>\n",
       "      <th>5</th>\n",
       "      <th>6</th>\n",
       "      <th>7</th>\n",
       "      <th>8</th>\n",
       "      <th>9</th>\n",
       "      <th>10</th>\n",
       "      <th>...</th>\n",
       "      <th>2992</th>\n",
       "      <th>2993</th>\n",
       "      <th>2994</th>\n",
       "      <th>2995</th>\n",
       "      <th>2996</th>\n",
       "      <th>2997</th>\n",
       "      <th>2998</th>\n",
       "      <th>2999</th>\n",
       "      <th>3000</th>\n",
       "      <th>label</th>\n",
       "    </tr>\n",
       "  </thead>\n",
       "  <tbody>\n",
       "    <tr>\n",
       "      <th>500</th>\n",
       "      <td>8.841740</td>\n",
       "      <td>6.128903</td>\n",
       "      <td>6.777261</td>\n",
       "      <td>9.022795</td>\n",
       "      <td>4.408391</td>\n",
       "      <td>7.888266</td>\n",
       "      <td>6.314197</td>\n",
       "      <td>5.371741</td>\n",
       "      <td>6.574600</td>\n",
       "      <td>4.403353</td>\n",
       "      <td>...</td>\n",
       "      <td>5.571061</td>\n",
       "      <td>8.349877</td>\n",
       "      <td>7.215102</td>\n",
       "      <td>6.139312</td>\n",
       "      <td>7.480027</td>\n",
       "      <td>8.060038</td>\n",
       "      <td>7.898205</td>\n",
       "      <td>5.848507</td>\n",
       "      <td>8.264427</td>\n",
       "      <td>1</td>\n",
       "    </tr>\n",
       "    <tr>\n",
       "      <th>501</th>\n",
       "      <td>8.670826</td>\n",
       "      <td>6.127531</td>\n",
       "      <td>7.180859</td>\n",
       "      <td>9.113487</td>\n",
       "      <td>4.462474</td>\n",
       "      <td>7.575946</td>\n",
       "      <td>6.024093</td>\n",
       "      <td>5.688475</td>\n",
       "      <td>6.678819</td>\n",
       "      <td>4.264804</td>\n",
       "      <td>...</td>\n",
       "      <td>5.776290</td>\n",
       "      <td>8.237783</td>\n",
       "      <td>7.575009</td>\n",
       "      <td>6.181293</td>\n",
       "      <td>7.538640</td>\n",
       "      <td>9.073399</td>\n",
       "      <td>8.696998</td>\n",
       "      <td>6.328636</td>\n",
       "      <td>8.275500</td>\n",
       "      <td>1</td>\n",
       "    </tr>\n",
       "    <tr>\n",
       "      <th>502</th>\n",
       "      <td>8.809229</td>\n",
       "      <td>6.270196</td>\n",
       "      <td>6.778510</td>\n",
       "      <td>9.250695</td>\n",
       "      <td>4.396258</td>\n",
       "      <td>7.527639</td>\n",
       "      <td>6.149267</td>\n",
       "      <td>5.587484</td>\n",
       "      <td>6.401677</td>\n",
       "      <td>4.394353</td>\n",
       "      <td>...</td>\n",
       "      <td>5.937792</td>\n",
       "      <td>8.428287</td>\n",
       "      <td>7.289294</td>\n",
       "      <td>6.100881</td>\n",
       "      <td>7.403753</td>\n",
       "      <td>8.763766</td>\n",
       "      <td>8.825195</td>\n",
       "      <td>6.572378</td>\n",
       "      <td>8.584387</td>\n",
       "      <td>1</td>\n",
       "    </tr>\n",
       "    <tr>\n",
       "      <th>503</th>\n",
       "      <td>9.089377</td>\n",
       "      <td>6.648818</td>\n",
       "      <td>7.085590</td>\n",
       "      <td>8.998140</td>\n",
       "      <td>4.462842</td>\n",
       "      <td>7.869689</td>\n",
       "      <td>6.060440</td>\n",
       "      <td>5.779001</td>\n",
       "      <td>6.451494</td>\n",
       "      <td>4.155387</td>\n",
       "      <td>...</td>\n",
       "      <td>6.141272</td>\n",
       "      <td>8.329656</td>\n",
       "      <td>7.586376</td>\n",
       "      <td>6.212241</td>\n",
       "      <td>7.500111</td>\n",
       "      <td>8.180384</td>\n",
       "      <td>8.109306</td>\n",
       "      <td>6.239723</td>\n",
       "      <td>8.848850</td>\n",
       "      <td>1</td>\n",
       "    </tr>\n",
       "    <tr>\n",
       "      <th>504</th>\n",
       "      <td>9.239313</td>\n",
       "      <td>6.485085</td>\n",
       "      <td>7.185377</td>\n",
       "      <td>9.530301</td>\n",
       "      <td>4.617422</td>\n",
       "      <td>7.947637</td>\n",
       "      <td>6.232575</td>\n",
       "      <td>5.675885</td>\n",
       "      <td>6.871626</td>\n",
       "      <td>4.390932</td>\n",
       "      <td>...</td>\n",
       "      <td>5.131223</td>\n",
       "      <td>7.934448</td>\n",
       "      <td>7.583246</td>\n",
       "      <td>6.098047</td>\n",
       "      <td>7.537817</td>\n",
       "      <td>8.806213</td>\n",
       "      <td>8.635038</td>\n",
       "      <td>6.964470</td>\n",
       "      <td>8.547701</td>\n",
       "      <td>1</td>\n",
       "    </tr>\n",
       "  </tbody>\n",
       "</table>\n",
       "<p>5 rows × 3001 columns</p>\n",
       "</div>"
      ],
      "text/plain": [
       "            1         2         3         4         5         6         7  \\\n",
       "500  8.841740  6.128903  6.777261  9.022795  4.408391  7.888266  6.314197   \n",
       "501  8.670826  6.127531  7.180859  9.113487  4.462474  7.575946  6.024093   \n",
       "502  8.809229  6.270196  6.778510  9.250695  4.396258  7.527639  6.149267   \n",
       "503  9.089377  6.648818  7.085590  8.998140  4.462842  7.869689  6.060440   \n",
       "504  9.239313  6.485085  7.185377  9.530301  4.617422  7.947637  6.232575   \n",
       "\n",
       "            8         9        10  ...      2992      2993      2994  \\\n",
       "500  5.371741  6.574600  4.403353  ...  5.571061  8.349877  7.215102   \n",
       "501  5.688475  6.678819  4.264804  ...  5.776290  8.237783  7.575009   \n",
       "502  5.587484  6.401677  4.394353  ...  5.937792  8.428287  7.289294   \n",
       "503  5.779001  6.451494  4.155387  ...  6.141272  8.329656  7.586376   \n",
       "504  5.675885  6.871626  4.390932  ...  5.131223  7.934448  7.583246   \n",
       "\n",
       "         2995      2996      2997      2998      2999      3000  label  \n",
       "500  6.139312  7.480027  8.060038  7.898205  5.848507  8.264427      1  \n",
       "501  6.181293  7.538640  9.073399  8.696998  6.328636  8.275500      1  \n",
       "502  6.100881  7.403753  8.763766  8.825195  6.572378  8.584387      1  \n",
       "503  6.212241  7.500111  8.180384  8.109306  6.239723  8.848850      1  \n",
       "504  6.098047  7.537817  8.806213  8.635038  6.964470  8.547701      1  \n",
       "\n",
       "[5 rows x 3001 columns]"
      ]
     },
     "execution_count": 133,
     "metadata": {},
     "output_type": "execute_result"
    }
   ],
   "source": [
    "df2.head()"
   ]
  },
  {
   "cell_type": "code",
   "execution_count": 134,
   "metadata": {},
   "outputs": [
    {
     "data": {
      "text/plain": [
       "500    1\n",
       "501    1\n",
       "502    1\n",
       "503    1\n",
       "504    1\n",
       "Name: label, dtype: int64"
      ]
     },
     "execution_count": 134,
     "metadata": {},
     "output_type": "execute_result"
    }
   ],
   "source": [
    "X = df2.drop('label',axis=1)\n",
    "X.head()\n",
    "y = df2['label']\n",
    "y.head()"
   ]
  },
  {
   "cell_type": "code",
   "execution_count": 135,
   "metadata": {},
   "outputs": [
    {
     "name": "stdout",
     "output_type": "stream",
     "text": [
      "(560, 3000) (140, 3000) (560,) (140,)\n"
     ]
    }
   ],
   "source": [
    "### QUESTION 4 ###\n",
    "from sklearn.model_selection import train_test_split\n",
    "X_train, X_val, y_train, y_val = train_test_split(X, y, test_size=0.2, shuffle = True, stratify = y, random_state = 42)\n",
    "y_train = y_train.ravel()\n",
    "y_val = y_val.ravel()\n",
    "print(X_train.shape,X_val.shape,y_train.shape,y_val.shape)"
   ]
  },
  {
   "cell_type": "code",
   "execution_count": 136,
   "metadata": {},
   "outputs": [],
   "source": [
    "# from sklearn.linear_model import LogisticRegression\n",
    "# from sklearn.metrics import accuracy_score\n",
    "# lr = LogisticRegression()\n",
    "# lr.fit(X_train,y_train)\n",
    "\n",
    "# y_pred = lr.predict(X_val)\n",
    "# print(accuracy_score(y_val,y_pred))\n",
    "\n",
    "# y_pred_train = lr.predict(X_train)\n",
    "# print(accuracy_score(y_train,y_pred_train))"
   ]
  },
  {
   "cell_type": "code",
   "execution_count": 137,
   "metadata": {},
   "outputs": [],
   "source": [
    "### QUESTION 5 ###\n",
    "from sklearn.pipeline import Pipeline\n",
    "from sklearn.linear_model import LogisticRegression\n",
    "from sklearn.preprocessing import StandardScaler\n",
    "from sklearn.decomposition import PCA\n",
    "from sklearn.model_selection import cross_val_score\n",
    "\n",
    "scaler = StandardScaler()\n",
    "n = 20\n",
    "np.random.seed(1)\n",
    "pca = PCA(n_components = n,random_state = 42)\n",
    "log_reg = LogisticRegression()\n",
    "\n",
    "pipe = Pipeline([('scaler',scaler), ('pca',pca), ('log_reg',log_reg)]) # create estimator with LogisticRegression\n",
    "# pipe.fit(X_train,y_train)\n",
    "# pred_y = pipe.predict(X_val)\n",
    "# accuracy = 1 - mean_squared_error(y_val,pred_y)\n",
    "accuracy = np.mean(cross_val_score(pipe, X_train, y_train, cv=5, scoring='f1'))"
   ]
  },
  {
   "cell_type": "code",
   "execution_count": 138,
   "metadata": {},
   "outputs": [
    {
     "data": {
      "text/plain": [
       "0.6250343936801497"
      ]
     },
     "execution_count": 138,
     "metadata": {},
     "output_type": "execute_result"
    }
   ],
   "source": [
    "accuracy"
   ]
  },
  {
   "cell_type": "code",
   "execution_count": 139,
   "metadata": {},
   "outputs": [
    {
     "name": "stdout",
     "output_type": "stream",
     "text": [
      "F1-score for best C and gamma are [0.87341772 0.83606557]\n"
     ]
    }
   ],
   "source": [
    "### QUESTION 6 ###\n",
    "### PART 1 AND PART 2 ###\n",
    "from sklearn.svm import SVC\n",
    "from sklearn.model_selection import GridSearchCV\n",
    "from sklearn.metrics import f1_score\n",
    "from sklearn.metrics import plot_confusion_matrix\n",
    "\n",
    "scaler_svm = StandardScaler()\n",
    "n = 20\n",
    "np.random.seed(1)\n",
    "pca_svm = PCA(n_components=n)\n",
    "svc_svm = SVC()\n",
    "\n",
    "C = [0.01, 1, 100]\n",
    "gamma = [1e-04, 1e-03, 1e-02]\n",
    "param = {\n",
    "    'svc__C' : C,\n",
    "    'svc__gamma' : gamma\n",
    "}\n",
    "\n",
    "pipe_svm = Pipeline([('scaler',scaler_svm),('pca',pca_svm),('svc',svc_svm)]) # create estimator with SVM\n",
    "grid_search_cv = GridSearchCV(pipe_svm, param, cv=5, scoring='f1').fit(X_train,y_train)\n",
    "### PART 3 ###\n",
    "# print(grid_search_cv.best_params_) # C=100,gamma=1e-4\n",
    "C_best = [100]\n",
    "gamma_best = [1e-4]\n",
    "param_best = {\n",
    "    'svc__C':C_best,\n",
    "    'svc__gamma':gamma_best\n",
    "}\n",
    "grid_search_cv_best = GridSearchCV(pipe_svm, param_best, cv=5, scoring='f1').fit(X_train,y_train)\n",
    "pred_y_best = grid_search_cv_best.predict(X_train)\n",
    "f1_score_res = f1_score(y_train, pred_y_best, average=None)\n",
    "print(\"F1-score for best C and gamma are {}\".format(f1_score_res))"
   ]
  },
  {
   "cell_type": "code",
   "execution_count": 140,
   "metadata": {},
   "outputs": [
    {
     "name": "stdout",
     "output_type": "stream",
     "text": [
      "normal : 0, disease : 1\n",
      "average training accuracy:0.8554,average testing accuracy:0.8071\n",
      "training F1-score:[0.87163233 0.83435583],testing F1-score:[0.82802548 0.7804878 ] for disease and normal tumor respectively in each dataset\n",
      "Confusion matrix, without normalization\n",
      "[[65 15]\n",
      " [12 48]]\n"
     ]
    },
    {
     "data": {
      "image/png": "[encoded data removed]",
      "text/plain": [
       "<Figure size 432x288 with 2 Axes>"
      ]
     },
     "metadata": {
      "needs_background": "light"
     },
     "output_type": "display_data"
    }
   ],
   "source": [
    "### QUESTION 7 ###\n",
    "### PART 1 AND 2 ###\n",
    "from sklearn.metrics import plot_confusion_matrix\n",
    "import matplotlib.pyplot as plt\n",
    "from sklearn.metrics import mean_squared_error\n",
    "from sklearn.metrics import accuracy_score\n",
    "\n",
    "scaler_svm = StandardScaler()\n",
    "n = 20\n",
    "np.random.seed(1)\n",
    "pca_svm = PCA(n_components=n)\n",
    "svc_svm = SVC()\n",
    "\n",
    "C_best = [100]\n",
    "gamma_best = [1e-04]\n",
    "param_best = {\n",
    "    'svc__C' : C_best,\n",
    "    'svc__gamma' : gamma_best\n",
    "}\n",
    "\n",
    "pipe_svm = Pipeline([('scaler',scaler_svm),('pca',pca_svm),('svc',svc_svm)]) # create estimator with SVM\n",
    "grid_search_cv = GridSearchCV(pipe_svm, param, cv=5, scoring='f1').fit(X_train,y_train)\n",
    "pred_y_best_train = grid_search_cv.predict(X_train)\n",
    "tra_acc = accuracy_score(y_train, pred_y_best_train)\n",
    "f1_score_res_train = f1_score(y_train, pred_y_best_train, average=None)\n",
    "\n",
    "pred_y_best_val = grid_search_cv.predict(X_val)\n",
    "val_acc = accuracy_score(y_val, pred_y_best_val)\n",
    "f1_score_res_val = f1_score(y_val, pred_y_best_val, average=None)\n",
    "print(\"normal : 0, disease : 1\")\n",
    "print(\"average training accuracy:{:0.4f},average testing accuracy:{:0.4f}\".format(tra_acc, val_acc))\n",
    "print(\"training F1-score:{},testing F1-score:{} for disease and normal tumor respectively in each dataset\".format(f1_score_res_train, f1_score_res_val))\n",
    "\n",
    "### PART 3 ###\n",
    "disp = plot_confusion_matrix(grid_search_cv,X_val,y_val,cmap=plt.cm.Blues,normalize=None)\n",
    "title = 'Confusion matrix, without normalization'\n",
    "disp.ax_.set_title('Confusion matrix, without normalization')\n",
    "print(title)\n",
    "print(disp.confusion_matrix)\n",
    "plt.show()"
   ]
  },
  {
   "cell_type": "markdown",
   "metadata": {},
   "source": [
    "### YOUR TEXT HERE ###\n",
    "\n",
    "#### Part 1 ####\n",
    "- For this part, the pd.read_csv(\"path directory\") method is used to read the file. Actually, the data is already a form of DataFrame, so there is no need to call pd.DataFrame, otherwise, it is necessary to call this instance. \n",
    "- Here, using .copy() to store a same file to be a backup. And then use .loc to slice the dataframe, and got only one line as a file. \n",
    "- Using .drop() method to drop the title column of \"Source Name\" and \"0\", and next Using .drop() again to drop the first line. That is to say to create a empty DataFrame with correct title to store the new data later.\n",
    "\n",
    "#### Part 2 ####\n",
    "- Pick up those data with label \"disease\" and \"normal\", and write into previous empty DataFrame line by line.\n",
    "\n",
    "#### Part 3 ####\n",
    "- Using .map() to deal with replacing tasks in which disease and normal should be marked as 1 and 0 respectively.\n",
    "- Picking up the \"label\" column to be label column and Picking up the residual 3000 columns to be features columns.\n",
    "\n",
    "#### Part 4 ####\n",
    "- Using class train_test_split to split the whole dataset eithor X or y into two parts, in which 80% of X and y is training set and 20% of X and y is testing data. -  - Besides, Using revel() to transform a array for example (500,1) into (500,) to match the next operation.\n",
    "\n",
    "#### Part 5 ####\n",
    "- Using StandardScaler() to normalize data, using PCA() to decomposite data and using LogisticRegression to be an estimator.\n",
    "- using Pipeline() to coorperate them.\n",
    "- using np.mean() and cross_val_score() with parameters \"estimator, dataset, cv=5, scoring='f1'\" to get the accuracy on the training set.\n",
    "\n",
    "#### Part 6 ####\n",
    "- using class GridSearchCV to be a estimator to fit the dataset.\n",
    "- what inside is estimator Pipeline which is same with previous one, parameters with  class StandardScaler(), decomposition class PCA(n_components=n), estimator SVC() with several values in \"C\" and \"gamma\".\n",
    "- using .best_params_ in GridSearchCV to find the best parameters of C and gamma in a series of values. The best values of C and gamma are 100 and 1e-4\n",
    "- using f1_score() to get the score of F1-score\n",
    "\n",
    "####  Part 7 ####\n",
    "- using accuracy_score() to get the similarity or accuracy between prediction value and true value.\n",
    "- Finally, the F1-score of SVM model with best parameter values for C(100) and gamma(1e-4) is [0.87341772 0.83606557] which mean the accuracy of prediction of tumor with lable of disease and normal.\n",
    "- The accuracy and F1-score on the training and test sets 0.8554 and 0.8071 respectively. Besides, its F1-score on training data is [0.87163233 0.83435583] and on testing data is [0.82802548 0.7804878 ]."
   ]
  },
  {
   "cell_type": "markdown",
   "metadata": {
    "deletable": false,
    "editable": false,
    "nbgrader": {
     "cell_type": "markdown",
     "checksum": "321dde218900b79d9bdb42e9486396bf",
     "grade": false,
     "grade_id": "cell-d6181a52780405af",
     "locked": true,
     "schema_version": 3,
     "solution": false,
     "task": false
    }
   },
   "source": [
    "# PART 2 (optional, extra 15 p max)\n",
    "\n",
    "In this part, you need to predict several tissue types ('cell line', 'disease', 'neoplasm', 'normal') based on gene expression data. Use the whole dataset and implement a SVM model for predictions.\n",
    "\n",
    "If you'd like to earn more points for the project, you can:\n",
    "    \n",
    "- Perform 3-fold cross-validation for SVM model (5 points max)  or/and perform grid search for SVM parameters `'C': [0.01, 1, 100]`, and `'gamma': [1e-04, 1e-03, 1e-02]}` (5 points max). \n",
    "- Perform 3-fold cross-validation combined with grid search (15 points max).\n",
    "\n",
    "You can either (1) implement CV or Grid Search and get 5 points max or (2) implement both, but separately, and get 10 points max, or (3) combine CV + Grid Search and get 15 points max. You need to choose only one option - e.g., you cannot do (1)+(3) and get 20 points. \n",
    "\n",
    "**NOTE!!!** In grid search for each combination of parameters report at least F1-score (you can report other metrics in addition). You should report the F1-score (average across 3 folds, if implementing CV) for each class ('cell line', 'disease', 'neoplasm', 'normal') **SEPARATELY**. This means, that you would need to perform  CV/GridSearch \"manually\", with for-loops, without using sklearn GridSearchCV and Pipeline classes. \n",
    "- During CV/GridSearch report evaluation metrics only on validation set.\n",
    "- Perform final evaluation on the test set similarly as in part 1 (report f1-score for training and test sets, and plot a confusion matrix for test set).\n",
    "\n",
    "\n",
    "Hints:\n",
    "- You can use `StratifiedKFold(n_splits=3, shuffle=True, random_state=42)` for cross-validation.\n",
    "- If using `f1_score` from sklearn.metrics, use parameter `average=None` to get f1-score for each class."
   ]
  },
  {
   "cell_type": "code",
   "execution_count": 141,
   "metadata": {},
   "outputs": [],
   "source": [
    "### PART 2 ###\n",
    "### YOUR CODE HERE ###\n",
    "import pandas as pd\n",
    "from sklearn.svm import SVC\n",
    "from sklearn.model_selection import train_test_split\n",
    "\n",
    "original_dataset = pd.read_csv(\"/coursedata/R7_StudentProject/data_subset.csv\")\n",
    "# dataset = pd.read_csv(\"/coursedata/R7_StudentProject/data_subset.csv\",header=None).to_numpy()\n",
    "original_dataset.head()\n",
    "df4 = original_dataset\n",
    "df4.drop(\"Source Name\", axis = 1, inplace = True)\n",
    "df4.drop(\"0\", axis = 1, inplace = True)\n",
    "df4['label'] = df4[\"label\"].map({'disease':1, 'normal':0, 'cell line':2, 'neoplasm':3})\n",
    "X_new = df4.drop('label', axis = 1)\n",
    "y_new = df4['label']"
   ]
  },
  {
   "cell_type": "code",
   "execution_count": 142,
   "metadata": {},
   "outputs": [
    {
     "name": "stdout",
     "output_type": "stream",
     "text": [
      "normal : 0, disease : 1, cell_line : 2, neoplasm : 3\n",
      "gamma:0.0001,C:0.01,accuracy on labels (2,1,3,0) are 0.0000,0.0000,0.0000,0.5714 respectively\n",
      "gamma:0.001,C:0.01,accuracy on labels (2,1,3,0) are 0.0000,0.0000,0.0000,0.5714 respectively\n",
      "gamma:0.01,C:0.01,accuracy on labels (2,1,3,0) are 0.0000,0.0000,0.0000,0.5714 respectively\n",
      "gamma:0.0001,C:1,accuracy on labels (2,1,3,0) are 0.7632,0.7531,0.9816,0.9806 respectively\n",
      "gamma:0.001,C:1,accuracy on labels (2,1,3,0) are 0.9013,0.8828,1.0000,1.0000 respectively\n",
      "gamma:0.01,C:1,accuracy on labels (2,1,3,0) are 1.0000,1.0000,1.0000,1.0000 respectively\n",
      "gamma:0.0001,C:100,accuracy on labels (2,1,3,0) are 0.9984,0.9979,1.0000,1.0000 respectively\n",
      "gamma:0.001,C:100,accuracy on labels (2,1,3,0) are 1.0000,1.0000,1.0000,1.0000 respectively\n",
      "gamma:0.01,C:100,accuracy on labels (2,1,3,0) are 1.0000,1.0000,1.0000,1.0000 respectively\n",
      "best parameters of gamma and c for class 0 are 0.01 and 100 respectively\n",
      "best parameters of gamma and c for class 1 are 0.01 and 100 respectively\n",
      "best parameters of gamma and c for class 2 are 0.01 and 100 respectively\n",
      "best parameters of gamma and c for class 3 are 0.01 and 100 respectively\n"
     ]
    }
   ],
   "source": [
    "from sklearn.model_selection import StratifiedKFold\n",
    "from sklearn.metrics import f1_score\n",
    "from sklearn.metrics import classification_report\n",
    "\n",
    "X_trainval,X_test,y_trainval,y_test = train_test_split(X_new, y_new, test_size=0.2, shuffle = True, stratify = y_new, random_state = 1)\n",
    "score_svm = []\n",
    "\n",
    "best_score_0 = 0\n",
    "best_score_1 = 0\n",
    "best_score_2 = 0\n",
    "best_score_3 = 0\n",
    "\n",
    "target_names = ['2', '1', '3', '0']\n",
    "# Kfold = StratifiedKFold(n_splits=3, shuffle=True, random_state=42)\n",
    "# for train_index,test_index in Kfold.split(X_trainval,y_trainval):\n",
    "#     print(train_index,test_index)\n",
    "#     X_train, X_test, y_train, y_test = X_trainval[train_index], y_trainval[train_index]\n",
    "#     x_trainval_train,x_trainval_test,y_trainval_train,y_trainval_test = X_trainval[train_index], X_trainval[test_index], y_trainval[train_index], y_trainval[test_index]\n",
    "#     print(x_trainval_train,x_trainval_test,y_trainval_train,y_trainval_test)\n",
    "\n",
    "# grid search start\n",
    "# find the highest score with c and gamma\n",
    "C = [0.01, 1, 100]\n",
    "Gamma = [1e-04, 1e-03, 1e-02]\n",
    "print('normal : 0, disease : 1, cell_line : 2, neoplasm : 3')\n",
    "for C in C:\n",
    "    for gamma in Gamma:\n",
    "        svm = SVC(gamma=gamma,C=C)\n",
    "        svm.fit(X_trainval, y_trainval)\n",
    "        pred_train = svm.predict(X_trainval)\n",
    "        f1_score_res = f1_score(y_trainval, pred_train, average = None)\n",
    "        print(\"gamma:{},C:{},accuracy on labels (2,1,3,0) are {:0.4f},{:0.4f},{:0.4f},{:0.4f} respectively\".format(gamma,C,f1_score_res[0],f1_score_res[1],f1_score_res[2],f1_score_res[3]))\n",
    "        if(f1_score_res[3] >= best_score_0):\n",
    "            best_score_0 = f1_score_res[3]\n",
    "            best_parameters_normal = {'gamma':gamma, 'c':C}\n",
    "        if(f1_score_res[1] >= best_score_1):\n",
    "            best_score_1 = f1_score_res[1]\n",
    "            best_parameters_disease = {'gamma':gamma, 'c':C}\n",
    "        if(f1_score_res[0] >= best_score_2):\n",
    "            best_score_2 = f1_score_res[0]\n",
    "            best_parameters_cell_line = {'gamma':gamma, 'c':C}\n",
    "        if(f1_score_res[2] >= best_score_3):\n",
    "            best_score_3 = f1_score_res[2]\n",
    "            best_parameters_neoplasm = {'gamma':gamma, 'c':C}\n",
    "#         print(classification_report(y_trainval, pred_train, target_names=target_names))\n",
    "\n",
    "print(\"best parameters of gamma and c for class 0 are {} and {} respectively\".format(best_parameters_normal['gamma'], best_parameters_normal['c']))\n",
    "print(\"best parameters of gamma and c for class 1 are {} and {} respectively\".format(best_parameters_disease['gamma'], best_parameters_disease['c']))\n",
    "print(\"best parameters of gamma and c for class 2 are {} and {} respectively\".format(best_parameters_cell_line['gamma'], best_parameters_cell_line['c']))\n",
    "print(\"best parameters of gamma and c for class 3 are {} and {} respectively\".format(best_parameters_neoplasm['gamma'], best_parameters_neoplasm['c']))"
   ]
  },
  {
   "cell_type": "code",
   "execution_count": 143,
   "metadata": {},
   "outputs": [
    {
     "name": "stdout",
     "output_type": "stream",
     "text": [
      "training F1-score:[1. 1. 1. 1.],testing F1-score:[0.44660194 0.22857143 0.58156028 0.65843621] for normal and disease tumor respectively\n",
      "Confusion matrix, without normalization\n",
      "[[ 23   2   0  55]\n",
      " [  0   8   0  52]\n",
      " [  0   0  41  59]\n",
      " [  0   0   0 160]]\n"
     ]
    },
    {
     "data": {
      "image/png": "[encoded data removed]",
      "text/plain": [
       "<Figure size 432x288 with 2 Axes>"
      ]
     },
     "metadata": {
      "needs_background": "light"
     },
     "output_type": "display_data"
    }
   ],
   "source": [
    "# best parameters of gamma and c are 0.01 and 100\n",
    "from sklearn.metrics import plot_confusion_matrix\n",
    "import matplotlib.pyplot as plt\n",
    "\n",
    "gamma = 0.01\n",
    "C = 100\n",
    "svm = SVC(gamma=gamma,C=C)\n",
    "svm.fit(X_trainval, y_trainval)\n",
    "pred_y_best_train = svm.predict(X_trainval)\n",
    "f1_score_res_train = f1_score(y_trainval, pred_y_best_train, average=None)\n",
    "\n",
    "pred_y_best_test = svm.predict(X_test)\n",
    "f1_score_res_test = f1_score(y_test, pred_y_best_test, average=None)\n",
    "print(\"training F1-score:{},testing F1-score:{} for normal and disease tumor respectively\".format(f1_score_res_train, f1_score_res_test))\n",
    "\n",
    "disp = plot_confusion_matrix(svm,X_test,y_test,cmap=plt.cm.Blues,normalize=None)\n",
    "title = 'Confusion matrix, without normalization'\n",
    "disp.ax_.set_title('Confusion matrix, without normalization')\n",
    "print(title)\n",
    "print(disp.confusion_matrix)\n",
    "plt.show()"
   ]
  },
  {
   "cell_type": "markdown",
   "metadata": {},
   "source": [
    "### YOUR TEXT HERE ###\n",
    "\n",
    "#### some methods and simple explaination about codes ####\n",
    "- Basically, the process of part 2 is similar with part 1, but labels are increased to 4, which here are represented by 'disease':1, 'normal':0, 'cell line':2, 'neoplasm':3.\n",
    "- Using class svm to estimate the output label with the input of dataset. Then using f1_score() to do the accuracy estimation related to the input eithor on the training set or on the testing set.\n",
    "- for specific hyperparameters C and gamma, here using two for-loops to iterate them. Using svm to do label estimation, and then using f1_score to compute accuracy. In the second loop, also computing the best gamma and c for each class, which means four labels.\n",
    "- Picking up the best hyperparameters of C and gamma to estimate the accuracy on training set and testing set. \n",
    "- Using plot_confusion_matrix() to plot figure on testing set."
   ]
  },
  {
   "cell_type": "markdown",
   "metadata": {
    "deletable": false,
    "editable": false,
    "nbgrader": {
     "cell_type": "markdown",
     "checksum": "e5cccc9c3eecfa8a5a3d55be9a3d0d64",
     "grade": false,
     "grade_id": "cell-1ffb81e3924af385",
     "locked": true,
     "schema_version": 3,
     "solution": false,
     "task": false
    }
   },
   "source": [
    "<a id='result'></a>\n",
    "<div class=\" alert alert-info\">\n",
    "\n",
    "## Results (5 p)\n",
    "\n",
    "This section presents the results of the experiments. In most problems, the central result is the estimated performance of the final model on new data with respect to the chosen performance metric. In addition, you can for example, present results for different models or consider how the hyperparameters affect the models performance.\n",
    "\n",
    "</div>"
   ]
  },
  {
   "cell_type": "markdown",
   "metadata": {},
   "source": [
    "### YOUR TEXT HERE ###\n",
    "Actually, there are two parts about the results of the experiments, which are part1 with two labels of normal and disease and part2 with four labels of normal, disease, cell_line and neoplasm.\n",
    "\n",
    "#### part1 result with two labels ####\n",
    "- the result of part1 is almost of accuracy about 80% eithor in training set or testing set. But all in all, the testing set has a lower accuracy which is regared as a new dataset than the training set. Here the average acuracy on training set is 0.8554, and the average estimation result on testing set is 0.8071. Specifically, the accuracy on training set with method of f1_score is [0.87163233 0.83435583] and [0.82802548 0.7804878 ], in which the sequency of estimation values is in the order of 0-normal and 1-disease.\n",
    "- the best hyperparameters of C and gamma are 100 and 1e-4 respectively.\n",
    "\n",
    "#### part2 result with four labels ####\n",
    "- the result of part2 is much better than part1 on the training set. From the view of f1_score(), the accuracy of training set is almost 100% on four labels. But on the testing set, which is 0.44660194 0.22857143 0.58156028 0.65843621 for labels 2,1,3,0 respectively.\n",
    "- for different hyperparameters, the hyperparameters would have an huge effect on training set. The best hyperparameter for example gamma:0.01 and C:100 showing better result than bad hyperparameters such as gamma:0.0001 and C:0.01. For the best parameters, the result is nearly 100%, but the result with bad parameter is less than 50% or even 0 on label 0,1,2 on some rounds. So the larger the value of gamma and C are, the better the performance on model is.\n",
    "\n",
    "#### normal : 0, disease : 1, cell_line : 2, neoplasm : 3 ####\n",
    "- gamma:0.0001,C:0.01,accuracy on labels (2,1,3,0) are 0.0000,0.0000,0.0000,0.5714 respectively\n",
    "- gamma:0.001,C:0.01,accuracy on labels (2,1,3,0) are 0.0000,0.0000,0.0000,0.5714 respectively\n",
    "- gamma:0.01,C:0.01,accuracy on labels (2,1,3,0) are 0.0000,0.0000,0.0000,0.5714 respectively\n",
    "- gamma:0.0001,C:1,accuracy on labels (2,1,3,0) are 0.7632,0.7531,0.9816,0.9806 respectively\n",
    "- gamma:0.001,C:1,accuracy on labels (2,1,3,0) are 0.9013,0.8828,1.0000,1.0000 respectively\n",
    "- gamma:0.01,C:1,accuracy on labels (2,1,3,0) are 1.0000,1.0000,1.0000,1.0000 respectively\n",
    "- gamma:0.0001,C:100,accuracy on labels (2,1,3,0) are 0.9984,0.9979,1.0000,1.0000 respectively\n",
    "- gamma:0.001,C:100,accuracy on labels (2,1,3,0) are 1.0000,1.0000,1.0000,1.0000 respectively\n",
    "- gamma:0.01,C:100,accuracy on labels (2,1,3,0) are 1.0000,1.0000,1.0000,1.0000 respectively\n",
    "- best parameters of gamma and c for class 0 are 0.01 and 100 respectively\n",
    "- best parameters of gamma and c for class 1 are 0.01 and 100 respectively\n",
    "- best parameters of gamma and c for class 2 are 0.01 and 100 respectively\n",
    "- best parameters of gamma and c for class 3 are 0.01 and 100 respectively\n",
    "\n",
    "Bacially, performance on models without pca is better than models with pca. Performance on LogisticregRegression is quite equally to on SVM"
   ]
  },
  {
   "cell_type": "markdown",
   "metadata": {
    "deletable": false,
    "editable": false,
    "nbgrader": {
     "cell_type": "markdown",
     "checksum": "4d25c2c5b3b09f61d6e98df9d2698814",
     "grade": false,
     "grade_id": "cell-b4e407cebef9524a",
     "locked": true,
     "schema_version": 3,
     "solution": false,
     "task": false
    }
   },
   "source": [
    "<a id='discussion'></a>\n",
    "<div class=\" alert alert-info\">\n",
    "\n",
    "\n",
    "## Discussion/Conclusions (5 p)\n",
    "\n",
    "In this section you should analyze the results on a more general level and summarize the findings of your project work. If possible, you should at least answer the following questions:\n",
    "- Do the results suggest satisfactory performance of your final model, or is there much room for improvement?\n",
    "- How do your results compare to benchmarks/ solutions of others (if such are available)?\n",
    "- Are you aware of some methodological shortcomings in the project?\n",
    "- Do you have ideas for how to improve the performance (e.g. using more training data, using more features for the data points, using different class of predictor functions (hypothesis space) ?\n",
    "\n",
    "</div>"
   ]
  },
  {
   "cell_type": "markdown",
   "metadata": {},
   "source": [
    "### YOUR TEXT HERE ###\n",
    "\n",
    "there are several points that should be noted which are corresponding to the questions above.\n",
    "1. yes, there is much room to improve my model, because the performance on the testing set behaves really unsatisfied, but the hyperparameters have been reached the best ones. Besides, one point that should be mentioned is that when i used LogisticRegression to fit model and do estimation, the result is better than using Pipeline with StandardScaler(), PCA() and LogisticRegression(). This is the first point i didn't fully understand.\n",
    "2. I have once read several examples through others' blogs, and someone's results of their problems is similar to mine, especially when using pca to do estimation or results of confusion metrics. I think the result is also really depandent on the dataform itself.\n",
    "3. Actually, i confronted methological shortcomings from time to time, such as unfamiliar with slicing in dataframe, dividing labels with numbers which could use map() to taking place of manually signing. I don't know whether it is the best method with Pipeline() to train the model with thousands of features since the features are not easily to classify. Compared with machine learning, there is another way using deep learning to train the model, and possibly the accuracy could be higher.\n",
    "4. i think using more training data is a potential method to increase the accuracy when especially the number of features is more than the number of samples. Besides, algorithm tuning seems a method to modify the hyperparameters in training. Or using several algotithms to matching data, because some algorithms are better suited to a particular type of data sets than others. Hence, it is necessary to apply all relevant models and check the performance."
   ]
  },
  {
   "cell_type": "code",
   "execution_count": null,
   "metadata": {},
   "outputs": [],
   "source": []
  }
 ],
 "metadata": {
  "kernelspec": {
   "display_name": "Python 3",
   "language": "python",
   "name": "python3"
  },
  "language_info": {
   "codemirror_mode": {
    "name": "ipython",
    "version": 3
   },
   "file_extension": ".py",
   "mimetype": "text/x-python",
   "name": "python",
   "nbconvert_exporter": "python",
   "pygments_lexer": "ipython3",
   "version": "3.7.3"
  },
  "toc": {
   "base_numbering": 1,
   "nav_menu": {},
   "number_sections": false,
   "sideBar": true,
   "skip_h1_title": false,
   "title_cell": "Table of Contents",
   "title_sidebar": "Contents",
   "toc_cell": false,
   "toc_position": {},
   "toc_section_display": true,
   "toc_window_display": false
  },
  "varInspector": {
   "cols": {
    "lenName": 16,
    "lenType": 16,
    "lenVar": 40
   },
   "kernels_config": {
    "python": {
     "delete_cmd_postfix": "",
     "delete_cmd_prefix": "del ",
     "library": "var_list.py",
     "varRefreshCmd": "print(var_dic_list())"
    },
    "r": {
     "delete_cmd_postfix": ") ",
     "delete_cmd_prefix": "rm(",
     "library": "var_list.r",
     "varRefreshCmd": "cat(var_dic_list()) "
    }
   },
   "types_to_exclude": [
    "module",
    "function",
    "builtin_function_or_method",
    "instance",
    "_Feature"
   ],
   "window_display": false
  }
 },
 "nbformat": 4,
 "nbformat_minor": 4
}
